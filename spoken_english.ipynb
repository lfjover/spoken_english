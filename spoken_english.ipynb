{
 "cells": [
  {
   "cell_type": "code",
   "execution_count": 110,
   "metadata": {
    "collapsed": true
   },
   "outputs": [],
   "source": [
    "%matplotlib inline\n",
    "import numpy as np\n",
    "import pandas as pd\n",
    "import re\n",
    "import os\n",
    "import pdb\n",
    "import matplotlib.pyplot as plt\n",
    "import matplotlib\n",
    "import seaborn\n",
    "from collections import Counter\n"
   ]
  },
  {
   "cell_type": "code",
   "execution_count": 3,
   "metadata": {
    "collapsed": false
   },
   "outputs": [
    {
     "data": {
      "text/html": [
       "<div>\n",
       "<table border=\"1\" class=\"dataframe\">\n",
       "  <thead>\n",
       "    <tr style=\"text-align: right;\">\n",
       "      <th></th>\n",
       "      <th>0</th>\n",
       "      <th>1</th>\n",
       "    </tr>\n",
       "  </thead>\n",
       "  <tbody>\n",
       "    <tr>\n",
       "      <th>0</th>\n",
       "      <td>0.00 9.21\\tLENORE: \\t... So you don't need to ...</td>\n",
       "      <td>NaN</td>\n",
       "    </tr>\n",
       "    <tr>\n",
       "      <th>1</th>\n",
       "      <td>9.21 9.52\\t        \\tto --</td>\n",
       "      <td>NaN</td>\n",
       "    </tr>\n",
       "    <tr>\n",
       "      <th>2</th>\n",
       "      <td>9.52 14.10\\t        \\t... to do the feet?</td>\n",
       "      <td>NaN</td>\n",
       "    </tr>\n",
       "    <tr>\n",
       "      <th>3</th>\n",
       "      <td>14.10 15.78\\t        \\t... [Do the hooves]?</td>\n",
       "      <td>NaN</td>\n",
       "    </tr>\n",
       "    <tr>\n",
       "      <th>4</th>\n",
       "      <td>15.01 16.78\\tLYNNE:  \\t    [(H)=] &lt;YWN Well</td>\n",
       "      <td>NaN</td>\n",
       "    </tr>\n",
       "  </tbody>\n",
       "</table>\n",
       "</div>"
      ],
      "text/plain": [
       "                                                   0    1\n",
       "0  0.00 9.21\\tLENORE: \\t... So you don't need to ...  NaN\n",
       "1                         9.21 9.52\\t        \\tto --  NaN\n",
       "2          9.52 14.10\\t        \\t... to do the feet?  NaN\n",
       "3        14.10 15.78\\t        \\t... [Do the hooves]?  NaN\n",
       "4        15.01 16.78\\tLYNNE:  \\t    [(H)=] <YWN Well  NaN"
      ]
     },
     "execution_count": 3,
     "metadata": {},
     "output_type": "execute_result"
    }
   ],
   "source": [
    "chat = pd.read_csv('data/transcripts/SBC001.trn',header=None)\n",
    "chat.head()"
   ]
  },
  {
   "cell_type": "code",
   "execution_count": 43,
   "metadata": {
    "collapsed": false
   },
   "outputs": [
    {
     "name": "stdout",
     "output_type": "stream",
     "text": [
      "data/transcripts/SBC018.trn\n"
     ]
    },
    {
     "data": {
      "text/plain": [
       "['0.250\\t1.045\\tMARCIA:\\tThey might not actually be,',\n",
       " '1.045\\t1.335\\t\\t... be um,',\n",
       " '1.335\\t2.290\\t\\t... back in the barn- --',\n",
       " '1.540\\t3.000\\t\\t<X or [from X> the barn yet].',\n",
       " '2.325\\t2.715\\tLINDSEY:\\t      [(TSK) Good morning,']"
      ]
     },
     "execution_count": 43,
     "metadata": {},
     "output_type": "execute_result"
    }
   ],
   "source": [
    "file_path = 'data/transcripts/SBC018.trn'\n",
    "print file_path\n",
    "chat = []\n",
    "with open(file_path) as f:\n",
    "    for line in f:\n",
    "        chat.append(line.strip())\n",
    "chat[:5]"
   ]
  },
  {
   "cell_type": "code",
   "execution_count": 53,
   "metadata": {
    "collapsed": false
   },
   "outputs": [
    {
     "name": "stdout",
     "output_type": "stream",
     "text": [
      "data/transcripts/SBC014.trn\n"
     ]
    }
   ],
   "source": [
    "file_path = 'data/transcripts/SBC014.trn'\n",
    "print file_path\n",
    "chat = []\n",
    "with open(file_path) as f:\n",
    "    for line in f:        \n",
    "        current_line = line.strip().split('\\t')\n",
    "        current_line[0] = current_line[0].split(' ')\n",
    "        current_line[0]= '\\t'.join(current_line[0][:3])\n",
    "        current_line = '\\t'.join(current_line)\n",
    "        chat.append(current_line+'\\n')\n",
    "\n",
    "file_path = 'data/transcripts/prueba.trn'\n",
    "with open(file_path,'w') as f:\n",
    "    for line in chat:\n",
    "        f.write(line)"
   ]
  },
  {
   "cell_type": "code",
   "execution_count": 46,
   "metadata": {
    "collapsed": false
   },
   "outputs": [
    {
     "data": {
      "text/plain": [
       "'18'"
      ]
     },
     "execution_count": 46,
     "metadata": {},
     "output_type": "execute_result"
    }
   ],
   "source": [
    "file_path[21:23]"
   ]
  },
  {
   "cell_type": "code",
   "execution_count": 118,
   "metadata": {
    "collapsed": false
   },
   "outputs": [],
   "source": [
    "def process_chat(file_path):\n",
    "    #print file_path\n",
    "    chat = []\n",
    "    with open(file_path) as f:\n",
    "        for line in f:\n",
    "            chat.append(line.strip().split('\\t'))\n",
    "\n",
    "    if int(file_path[21:23])<14:\n",
    "        chat[:] = [line for line in chat if len(line)==3] #delete comments\n",
    "        # separate end and start times\n",
    "        for i,line in enumerate(chat):\n",
    "            chat[i] = chat[i][0].split() + line[1:] \n",
    "            m = re.search(':',chat[i][2])\n",
    "            if m:\n",
    "                chat[i][2] = chat[i][2][:m.start()]\n",
    "            else:\n",
    "                chat[i][2] = chat[i-1][2]\n",
    "    else:\n",
    "        chat[:] = [line for line in chat if len(line)==4]\n",
    "    \n",
    "    chat = pd.DataFrame(chat)\n",
    "    chat.columns = ['start_time','end_time','person','speech']\n",
    "    \n",
    "    # clean speech\n",
    "    chat['clean_speech'] = chat.speech #placeholder\n",
    "    for i,text in enumerate(chat.clean_speech):\n",
    "        text = re.sub(r'\\[.*\\]', '', text)\n",
    "        text = re.sub(r'\\(.*\\)', '', text)\n",
    "        text = re.sub(r'=','',text)\n",
    "        text = re.sub(r'[^A-Za-z\\']',' ',text)\n",
    "        text = text.lower()\n",
    "        chat.clean_speech[i] = text.split()\n",
    "    return chat"
   ]
  },
  {
   "cell_type": "code",
   "execution_count": 117,
   "metadata": {
    "collapsed": false
   },
   "outputs": [
    {
     "data": {
      "text/plain": [
       "'wwere'"
      ]
     },
     "execution_count": 117,
     "metadata": {},
     "output_type": "execute_result"
    }
   ],
   "source": [
    "'wWERE'.lower()"
   ]
  },
  {
   "cell_type": "code",
   "execution_count": 48,
   "metadata": {
    "collapsed": true
   },
   "outputs": [],
   "source": [
    "def get_list_of_words(clean_speech_series):\n",
    "    \"\"\"get list of words from time series of clean speech\"\"\"    \n",
    "    words = []\n",
    "    for text in clean_speech_series:\n",
    "        words = words + text\n",
    "    return words"
   ]
  },
  {
   "cell_type": "code",
   "execution_count": 119,
   "metadata": {
    "collapsed": false
   },
   "outputs": [],
   "source": [
    "#create a dictionary with all the words\n",
    "chat1 = process_chat('data/transcripts/SBC001.trn')\n",
    "words = get_list_of_words(chat1.clean_speech)\n",
    "word_dict = Counter(words)\n",
    "\n",
    "file_names = os.listdir('data/transcripts')\n",
    "for file_name in file_names[1:] :\n",
    "    chat = process_chat('data/transcripts/'+file_name)\n",
    "    word_dict.update(get_list_of_words(chat.clean_speech))"
   ]
  },
  {
   "cell_type": "code",
   "execution_count": 124,
   "metadata": {
    "collapsed": false
   },
   "outputs": [],
   "source": [
    "mc_words = []\n",
    "mc_counts = []\n",
    "for word_count in word_dict.most_common(150):\n",
    "    mc_words.append(word_count[0])\n",
    "    mc_counts.append(word_count[1])"
   ]
  },
  {
   "cell_type": "code",
   "execution_count": 123,
   "metadata": {
    "collapsed": false
   },
   "outputs": [
    {
     "data": {
      "text/plain": [
       "([<matplotlib.axis.YTick at 0x1ae5c2890>,\n",
       "  <matplotlib.axis.YTick at 0x1ae32b3d0>,\n",
       "  <matplotlib.axis.YTick at 0x1ae9c0790>,\n",
       "  <matplotlib.axis.YTick at 0x1aeb50250>,\n",
       "  <matplotlib.axis.YTick at 0x1aeb509d0>,\n",
       "  <matplotlib.axis.YTick at 0x1aeb59190>,\n",
       "  <matplotlib.axis.YTick at 0x1aeb59910>,\n",
       "  <matplotlib.axis.YTick at 0x1aeb610d0>,\n",
       "  <matplotlib.axis.YTick at 0x1aeb61850>,\n",
       "  <matplotlib.axis.YTick at 0x1aeb61fd0>,\n",
       "  <matplotlib.axis.YTick at 0x1aeb69790>,\n",
       "  <matplotlib.axis.YTick at 0x1aeb69f10>,\n",
       "  <matplotlib.axis.YTick at 0x1aeb706d0>,\n",
       "  <matplotlib.axis.YTick at 0x1aeb70e50>,\n",
       "  <matplotlib.axis.YTick at 0x1aeb79610>,\n",
       "  <matplotlib.axis.YTick at 0x1aeb79d90>,\n",
       "  <matplotlib.axis.YTick at 0x1aeb81550>,\n",
       "  <matplotlib.axis.YTick at 0x1aeb81cd0>,\n",
       "  <matplotlib.axis.YTick at 0x1aeb88490>,\n",
       "  <matplotlib.axis.YTick at 0x1aeb88c10>,\n",
       "  <matplotlib.axis.YTick at 0x1aeb923d0>,\n",
       "  <matplotlib.axis.YTick at 0x1aeb92b50>,\n",
       "  <matplotlib.axis.YTick at 0x1aeb99310>,\n",
       "  <matplotlib.axis.YTick at 0x1aeb99a90>,\n",
       "  <matplotlib.axis.YTick at 0x1aeba1250>,\n",
       "  <matplotlib.axis.YTick at 0x1aeba19d0>,\n",
       "  <matplotlib.axis.YTick at 0x1aebaa190>,\n",
       "  <matplotlib.axis.YTick at 0x1aebaa910>,\n",
       "  <matplotlib.axis.YTick at 0x1aebb20d0>,\n",
       "  <matplotlib.axis.YTick at 0x1aebb2850>,\n",
       "  <matplotlib.axis.YTick at 0x1aebb2fd0>,\n",
       "  <matplotlib.axis.YTick at 0x1aebb9790>,\n",
       "  <matplotlib.axis.YTick at 0x1aebb9f10>,\n",
       "  <matplotlib.axis.YTick at 0x1aebc16d0>,\n",
       "  <matplotlib.axis.YTick at 0x1aebc1e50>,\n",
       "  <matplotlib.axis.YTick at 0x1aebca610>,\n",
       "  <matplotlib.axis.YTick at 0x1aebcad90>,\n",
       "  <matplotlib.axis.YTick at 0x1aebd1550>,\n",
       "  <matplotlib.axis.YTick at 0x1aebd1cd0>,\n",
       "  <matplotlib.axis.YTick at 0x1aebda490>,\n",
       "  <matplotlib.axis.YTick at 0x1aebdac10>,\n",
       "  <matplotlib.axis.YTick at 0x1aebe23d0>,\n",
       "  <matplotlib.axis.YTick at 0x1aebe2b50>,\n",
       "  <matplotlib.axis.YTick at 0x1aebea310>,\n",
       "  <matplotlib.axis.YTick at 0x1aebeaa90>,\n",
       "  <matplotlib.axis.YTick at 0x1aebf2250>,\n",
       "  <matplotlib.axis.YTick at 0x1aebf29d0>,\n",
       "  <matplotlib.axis.YTick at 0x1aebfb190>,\n",
       "  <matplotlib.axis.YTick at 0x1aebfb910>,\n",
       "  <matplotlib.axis.YTick at 0x1aec020d0>,\n",
       "  <matplotlib.axis.YTick at 0x1aec02850>,\n",
       "  <matplotlib.axis.YTick at 0x1aec02fd0>,\n",
       "  <matplotlib.axis.YTick at 0x1aec0a790>,\n",
       "  <matplotlib.axis.YTick at 0x1aec0af10>,\n",
       "  <matplotlib.axis.YTick at 0x1aec126d0>,\n",
       "  <matplotlib.axis.YTick at 0x1aec12e50>,\n",
       "  <matplotlib.axis.YTick at 0x1aec1a610>,\n",
       "  <matplotlib.axis.YTick at 0x1aec1ad90>,\n",
       "  <matplotlib.axis.YTick at 0x1aec22550>,\n",
       "  <matplotlib.axis.YTick at 0x1aec22cd0>,\n",
       "  <matplotlib.axis.YTick at 0x1aec2a490>,\n",
       "  <matplotlib.axis.YTick at 0x1aec2ac10>,\n",
       "  <matplotlib.axis.YTick at 0x1aec333d0>,\n",
       "  <matplotlib.axis.YTick at 0x1aec33b50>,\n",
       "  <matplotlib.axis.YTick at 0x1aec3a310>,\n",
       "  <matplotlib.axis.YTick at 0x1aec3aa90>,\n",
       "  <matplotlib.axis.YTick at 0x1aec43250>,\n",
       "  <matplotlib.axis.YTick at 0x1aec439d0>,\n",
       "  <matplotlib.axis.YTick at 0x1aec4b190>,\n",
       "  <matplotlib.axis.YTick at 0x1aec4b910>,\n",
       "  <matplotlib.axis.YTick at 0x1aec520d0>,\n",
       "  <matplotlib.axis.YTick at 0x1aec52850>,\n",
       "  <matplotlib.axis.YTick at 0x1aec52fd0>,\n",
       "  <matplotlib.axis.YTick at 0x1aec5b790>,\n",
       "  <matplotlib.axis.YTick at 0x1aec5bf10>,\n",
       "  <matplotlib.axis.YTick at 0x1aec626d0>,\n",
       "  <matplotlib.axis.YTick at 0x1aec62e50>,\n",
       "  <matplotlib.axis.YTick at 0x1aec6b610>,\n",
       "  <matplotlib.axis.YTick at 0x1aec6bd90>,\n",
       "  <matplotlib.axis.YTick at 0x1aec73550>,\n",
       "  <matplotlib.axis.YTick at 0x1aec73cd0>,\n",
       "  <matplotlib.axis.YTick at 0x1aec7b490>,\n",
       "  <matplotlib.axis.YTick at 0x1aec7bc10>,\n",
       "  <matplotlib.axis.YTick at 0x1aec833d0>,\n",
       "  <matplotlib.axis.YTick at 0x1aec83b50>,\n",
       "  <matplotlib.axis.YTick at 0x1aec8c310>,\n",
       "  <matplotlib.axis.YTick at 0x1aec8ca90>,\n",
       "  <matplotlib.axis.YTick at 0x1aec93250>,\n",
       "  <matplotlib.axis.YTick at 0x1aec939d0>,\n",
       "  <matplotlib.axis.YTick at 0x1aec9b190>,\n",
       "  <matplotlib.axis.YTick at 0x1aec9b910>,\n",
       "  <matplotlib.axis.YTick at 0x1aeca40d0>,\n",
       "  <matplotlib.axis.YTick at 0x1aeca4850>,\n",
       "  <matplotlib.axis.YTick at 0x1aeca4fd0>,\n",
       "  <matplotlib.axis.YTick at 0x1aecab790>,\n",
       "  <matplotlib.axis.YTick at 0x1aecabf10>,\n",
       "  <matplotlib.axis.YTick at 0x1aecb36d0>,\n",
       "  <matplotlib.axis.YTick at 0x1aecb3e50>,\n",
       "  <matplotlib.axis.YTick at 0x1aecbc610>,\n",
       "  <matplotlib.axis.YTick at 0x1aecbcd90>],\n",
       " <a list of 100 Text yticklabel objects>)"
      ]
     },
     "execution_count": 123,
     "metadata": {},
     "output_type": "execute_result"
    },
    {
     "data": {
      "image/png": "[encoded data removed]",
      "text/plain": [
       "<matplotlib.figure.Figure at 0x1acb10c50>"
      ]
     },
     "metadata": {},
     "output_type": "display_data"
    }
   ],
   "source": [
    "X = np.arange(len(mc_words))\n",
    "h_bar = plt.barh(X, mc_counts[-1::-1], align='center')\n",
    "plt.rcParams[\"figure.figsize\"] = [20,5]\n",
    "plt.yticks(X, mc_words[-1::-1])\n"
   ]
  },
  {
   "cell_type": "code",
   "execution_count": null,
   "metadata": {
    "collapsed": true
   },
   "outputs": [],
   "source": []
  },
  {
   "cell_type": "code",
   "execution_count": 67,
   "metadata": {
    "collapsed": false
   },
   "outputs": [
    {
     "data": {
      "text/plain": [
       "[1, 2, 14, 2, 184, 1, 3, 4, 1, 9]"
      ]
     },
     "execution_count": 67,
     "metadata": {},
     "output_type": "execute_result"
    }
   ],
   "source": [
    "word_dict.values()[:10]"
   ]
  },
  {
   "cell_type": "code",
   "execution_count": null,
   "metadata": {
    "collapsed": true
   },
   "outputs": [],
   "source": []
  }
 ],
 "metadata": {
  "kernelspec": {
   "display_name": "Python 2",
   "language": "python",
   "name": "python2"
  },
  "language_info": {
   "codemirror_mode": {
    "name": "ipython",
    "version": 2
   },
   "file_extension": ".py",
   "mimetype": "text/x-python",
   "name": "python",
   "nbconvert_exporter": "python",
   "pygments_lexer": "ipython2",
   "version": "2.7.10"
  }
 },
 "nbformat": 4,
 "nbformat_minor": 0
}
