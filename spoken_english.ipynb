{
 "cells": [
  {
   "cell_type": "code",
   "execution_count": 1,
   "metadata": {
    "collapsed": true
   },
   "outputs": [],
   "source": [
    "%matplotlib inline\n",
    "import numpy as np\n",
    "import pandas as pd\n",
    "import re\n",
    "import os\n",
    "import pdb\n",
    "import matplotlib.pyplot as plt\n",
    "import matplotlib\n",
    "import seaborn\n",
    "from collections import Counter\n"
   ]
  },
  {
   "cell_type": "code",
   "execution_count": 2,
   "metadata": {
    "collapsed": false
   },
   "outputs": [
    {
     "data": {
      "text/html": [
       "<div>\n",
       "<table border=\"1\" class=\"dataframe\">\n",
       "  <thead>\n",
       "    <tr style=\"text-align: right;\">\n",
       "      <th></th>\n",
       "      <th>0</th>\n",
       "      <th>1</th>\n",
       "    </tr>\n",
       "  </thead>\n",
       "  <tbody>\n",
       "    <tr>\n",
       "      <th>0</th>\n",
       "      <td>0.00 9.21\\tLENORE: \\t... So you don't need to ...</td>\n",
       "      <td>NaN</td>\n",
       "    </tr>\n",
       "    <tr>\n",
       "      <th>1</th>\n",
       "      <td>9.21 9.52\\t        \\tto --</td>\n",
       "      <td>NaN</td>\n",
       "    </tr>\n",
       "    <tr>\n",
       "      <th>2</th>\n",
       "      <td>9.52 14.10\\t        \\t... to do the feet?</td>\n",
       "      <td>NaN</td>\n",
       "    </tr>\n",
       "    <tr>\n",
       "      <th>3</th>\n",
       "      <td>14.10 15.78\\t        \\t... [Do the hooves]?</td>\n",
       "      <td>NaN</td>\n",
       "    </tr>\n",
       "    <tr>\n",
       "      <th>4</th>\n",
       "      <td>15.01 16.78\\tLYNNE:  \\t    [(H)=] &lt;YWN Well</td>\n",
       "      <td>NaN</td>\n",
       "    </tr>\n",
       "  </tbody>\n",
       "</table>\n",
       "</div>"
      ],
      "text/plain": [
       "                                                   0    1\n",
       "0  0.00 9.21\\tLENORE: \\t... So you don't need to ...  NaN\n",
       "1                         9.21 9.52\\t        \\tto --  NaN\n",
       "2          9.52 14.10\\t        \\t... to do the feet?  NaN\n",
       "3        14.10 15.78\\t        \\t... [Do the hooves]?  NaN\n",
       "4        15.01 16.78\\tLYNNE:  \\t    [(H)=] <YWN Well  NaN"
      ]
     },
     "execution_count": 2,
     "metadata": {},
     "output_type": "execute_result"
    }
   ],
   "source": [
    "chat = pd.read_csv('data/transcripts/SBC001.trn',header=None)\n",
    "chat.head()"
   ]
  },
  {
   "cell_type": "code",
   "execution_count": 3,
   "metadata": {
    "collapsed": false
   },
   "outputs": [],
   "source": [
    "def process_chat(file_path):\n",
    "    #print file_path\n",
    "    chat = []\n",
    "    with open(file_path) as f:\n",
    "        for line in f:\n",
    "            chat.append(line.strip().split('\\t'))\n",
    "\n",
    "    if int(file_path[21:23])<14:\n",
    "        chat[:] = [line for line in chat if len(line)==3] #delete comments\n",
    "        # separate end and start times\n",
    "        for i,line in enumerate(chat):\n",
    "            chat[i] = chat[i][0].split() + line[1:] \n",
    "            m = re.search(':',chat[i][2])\n",
    "            if m:\n",
    "                chat[i][2] = chat[i][2][:m.start()]\n",
    "            else:\n",
    "                chat[i][2] = chat[i-1][2]\n",
    "    else:\n",
    "        chat[:] = [line for line in chat if len(line)==4]\n",
    "    \n",
    "    chat = pd.DataFrame(chat)\n",
    "    chat.columns = ['start_time','end_time','person','speech']\n",
    "    \n",
    "    # clean speech\n",
    "    chat['clean_speech'] = chat.speech #placeholder\n",
    "    for i,text in enumerate(chat.clean_speech):\n",
    "        text = text.lower()\n",
    "        text = re.sub(r'\\[.*\\]|\\(.*\\)|=|x+($|[^a-z\\-])|--+|\\w*>', '', text) #[] denotes people talking over each other.\n",
    "        text = re.sub(r'[^a-z\\'\\-]',' ',text)       \n",
    "        chat.clean_speech[i] = text.split()\n",
    "    return chat"
   ]
  },
  {
   "cell_type": "code",
   "execution_count": 4,
   "metadata": {
    "collapsed": true
   },
   "outputs": [],
   "source": [
    "def get_list_of_words(clean_speech_series):\n",
    "    \"\"\"get list of words from time series of clean speech\"\"\"    \n",
    "    words = []\n",
    "    for text in clean_speech_series:\n",
    "        words = words + text \n",
    "    return words"
   ]
  },
  {
   "cell_type": "code",
   "execution_count": 5,
   "metadata": {
    "collapsed": true
   },
   "outputs": [],
   "source": [
    "def find_bigrams(input_list):\n",
    "  return zip(input_list, input_list[1:])"
   ]
  },
  {
   "cell_type": "code",
   "execution_count": 6,
   "metadata": {
    "collapsed": false
   },
   "outputs": [],
   "source": [
    "def get_list_of_bigrams(clean_speech_series):\n",
    "    \"\"\"get list of bigrams from all the sentences in clean speech\"\"\"\n",
    "    bigrams = []\n",
    "    for sentence in clean_speech_series:\n",
    "        bigrams = bigrams + find_bigrams(sentence)\n",
    "    return bigrams    "
   ]
  },
  {
   "cell_type": "code",
   "execution_count": 7,
   "metadata": {
    "collapsed": false
   },
   "outputs": [],
   "source": [
    "#create a dictionary with all the words\n",
    "chat1 = process_chat('data/transcripts/SBC001.trn')\n",
    "word_dict = Counter(get_list_of_words(chat1.clean_speech))\n",
    "bigram_dict = Counter(get_list_of_bigrams(chat1.clean_speech))\n",
    "\n",
    "file_names = os.listdir('data/transcripts')\n",
    "for file_name in file_names[1:] :    \n",
    "    chat = process_chat('data/transcripts/'+file_name)\n",
    "    word_dict.update(get_list_of_words(chat.clean_speech))\n",
    "    bigram_dict.update(get_list_of_bigrams(chat.clean_speech))"
   ]
  },
  {
   "cell_type": "code",
   "execution_count": 8,
   "metadata": {
    "collapsed": false
   },
   "outputs": [],
   "source": [
    "# get most common words and counts for bar graph\n",
    "mc_words = []\n",
    "mc_counts = []\n",
    "for word_and_count in word_dict.most_common(30):\n",
    "    mc_words.append(word_and_count[0])\n",
    "    mc_counts.append(word_and_count[1])\n",
    "    \n",
    "mc_bigrams = []\n",
    "mc_bigram_counts = []\n",
    "for bigram_and_count in bigram_dict.most_common(20):\n",
    "    mc_bigrams.append(bigram_and_count[0][0] + ' ' + bigram_and_count[0][1])\n",
    "    mc_bigram_counts.append(bigram_and_count[1])"
   ]
  },
  {
   "cell_type": "code",
   "execution_count": 12,
   "metadata": {
    "collapsed": false
   },
   "outputs": [
    {
     "data": {
      "image/png": "[encoded data removed]",
      "text/plain": [
       "<matplotlib.figure.Figure at 0x10d36d290>"
      ]
     },
     "metadata": {},
     "output_type": "display_data"
    }
   ],
   "source": [
    "X = np.arange(len(mc_words))\n",
    "h_bar = plt.barh(X, mc_counts[-1::-1], align='center')\n",
    "plt.yticks(X, mc_words[-1::-1]);\n",
    "plt.rcParams[\"figure.figsize\"] = [5,6]\n",
    "plt.tight_layout()\n",
    "plt.savefig('common_words.png')\n"
   ]
  },
  {
   "cell_type": "code",
   "execution_count": 28,
   "metadata": {
    "collapsed": false
   },
   "outputs": [
    {
     "data": {
      "image/png": "[encoded data removed]",
      "text/plain": [
       "<matplotlib.figure.Figure at 0x10d0a5390>"
      ]
     },
     "metadata": {},
     "output_type": "display_data"
    }
   ],
   "source": [
    "X = np.arange(len(mc_bigrams))\n",
    "h_bar = plt.barh(X, mc_bigram_counts[-1::-1], align='center')\n",
    "plt.yticks(X, mc_bigrams[-1::-1]);\n",
    "plt.rcParams[\"figure.figsize\"] = [5,5]\n",
    "plt.tight_layout()\n",
    "plt.savefig('common_bigrams.jpg')\n"
   ]
  },
  {
   "cell_type": "code",
   "execution_count": null,
   "metadata": {
    "collapsed": true
   },
   "outputs": [],
   "source": []
  }
 ],
 "metadata": {
  "kernelspec": {
   "display_name": "Python 2",
   "language": "python",
   "name": "python2"
  },
  "language_info": {
   "codemirror_mode": {
    "name": "ipython",
    "version": 2
   },
   "file_extension": ".py",
   "mimetype": "text/x-python",
   "name": "python",
   "nbconvert_exporter": "python",
   "pygments_lexer": "ipython2",
   "version": "2.7.10"
  }
 },
 "nbformat": 4,
 "nbformat_minor": 0
}
