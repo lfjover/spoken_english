{
 "cells": [
  {
   "cell_type": "code",
   "execution_count": 87,
   "metadata": {
    "collapsed": true
   },
   "outputs": [],
   "source": [
    "import numpy as np\n",
    "import pandas as pd\n",
    "import re\n",
    "\n",
    "from collections import Counter"
   ]
  },
  {
   "cell_type": "code",
   "execution_count": 3,
   "metadata": {
    "collapsed": false
   },
   "outputs": [
    {
     "data": {
      "text/html": [
       "<div>\n",
       "<table border=\"1\" class=\"dataframe\">\n",
       "  <thead>\n",
       "    <tr style=\"text-align: right;\">\n",
       "      <th></th>\n",
       "      <th>0.00 9.21\tLENORE: \t... So you don't need to go ... borrow equipment from anybody</th>\n",
       "      <th>Unnamed: 1</th>\n",
       "    </tr>\n",
       "  </thead>\n",
       "  <tbody>\n",
       "    <tr>\n",
       "      <th>0</th>\n",
       "      <td>9.21 9.52\\t        \\tto --</td>\n",
       "      <td>NaN</td>\n",
       "    </tr>\n",
       "    <tr>\n",
       "      <th>1</th>\n",
       "      <td>9.52 14.10\\t        \\t... to do the feet?</td>\n",
       "      <td>NaN</td>\n",
       "    </tr>\n",
       "    <tr>\n",
       "      <th>2</th>\n",
       "      <td>14.10 15.78\\t        \\t... [Do the hooves]?</td>\n",
       "      <td>NaN</td>\n",
       "    </tr>\n",
       "    <tr>\n",
       "      <th>3</th>\n",
       "      <td>15.01 16.78\\tLYNNE:  \\t    [(H)=] &lt;YWN Well</td>\n",
       "      <td>NaN</td>\n",
       "    </tr>\n",
       "    <tr>\n",
       "      <th>4</th>\n",
       "      <td>16.78 18.32\\t        \\t   we're gonna have to ...</td>\n",
       "      <td>NaN</td>\n",
       "    </tr>\n",
       "  </tbody>\n",
       "</table>\n",
       "</div>"
      ],
      "text/plain": [
       "  0.00 9.21\\tLENORE: \\t... So you don't need to go ... borrow equipment from anybody  \\\n",
       "0                         9.21 9.52\\t        \\tto --                                   \n",
       "1          9.52 14.10\\t        \\t... to do the feet?                                   \n",
       "2        14.10 15.78\\t        \\t... [Do the hooves]?                                   \n",
       "3        15.01 16.78\\tLYNNE:  \\t    [(H)=] <YWN Well                                   \n",
       "4  16.78 18.32\\t        \\t   we're gonna have to ...                                   \n",
       "\n",
       "  Unnamed: 1  \n",
       "0        NaN  \n",
       "1        NaN  \n",
       "2        NaN  \n",
       "3        NaN  \n",
       "4        NaN  "
      ]
     },
     "execution_count": 3,
     "metadata": {},
     "output_type": "execute_result"
    }
   ],
   "source": [
    "chat = pd.read_csv('data/SBC001.trn')\n",
    "chat.head()"
   ]
  },
  {
   "cell_type": "code",
   "execution_count": 95,
   "metadata": {
    "collapsed": false
   },
   "outputs": [],
   "source": [
    "def process_chat(file):\n",
    "    chat = []\n",
    "    with open(file) as f:\n",
    "        for line in f:\n",
    "            chat.append(line.strip().split('\\t'))\n",
    "    for i,line in enumerate(chat):\n",
    "        chat[i] = chat[i][0].split() + line[1:] #separate start and end time\n",
    "        #clean or add person talking\n",
    "        m = re.search(':',chat[i][2])\n",
    "        if m:\n",
    "            chat[i][2] = chat[i][2][:m.start()]\n",
    "        else:\n",
    "            chat[i][2] = chat[i-1][2]\n",
    "    chat = pd.DataFrame(chat)\n",
    "    chat.columns = ['start_time','end_time','person','speech']\n",
    "    # clean speech\n",
    "    chat['clean_speech'] = chat.speech #placeholder\n",
    "    for i,text in enumerate(chat.clean_speech):\n",
    "        text = re.sub(r'\\[.*\\]', '', text)\n",
    "        text = re.sub(r'\\(.*\\)', '', text)\n",
    "        text = re.sub(r'=','',text)\n",
    "        text = re.sub(r'[^A-Za-z\\']',' ',text)\n",
    "        chat.clean_speech[i] = text.split()\n",
    "    return chat\n",
    "\n",
    "chat1 = process_chat('data/SBC001.trn')\n",
    "chat2 = process_chat('data/SBC002.trn')"
   ]
  },
  {
   "cell_type": "code",
   "execution_count": 96,
   "metadata": {
    "collapsed": false
   },
   "outputs": [],
   "source": [
    "words = []\n",
    "for text in chat1.clean_speech:\n",
    "    words = words + text\n",
    "word_dict = Counter(words)\n",
    "words2 = []\n",
    "for text in chat2.clean_speech:\n",
    "    words2 = words2 + text\n",
    "word_dict.update(words2)"
   ]
  },
  {
   "cell_type": "code",
   "execution_count": 98,
   "metadata": {
    "collapsed": false
   },
   "outputs": [
    {
     "data": {
      "text/plain": [
       "298"
      ]
     },
     "execution_count": 98,
     "metadata": {},
     "output_type": "execute_result"
    }
   ],
   "source": [
    "word_dict['I']"
   ]
  },
  {
   "cell_type": "code",
   "execution_count": null,
   "metadata": {
    "collapsed": true
   },
   "outputs": [],
   "source": []
  }
 ],
 "metadata": {
  "kernelspec": {
   "display_name": "Python 2",
   "language": "python",
   "name": "python2"
  },
  "language_info": {
   "codemirror_mode": {
    "name": "ipython",
    "version": 2
   },
   "file_extension": ".py",
   "mimetype": "text/x-python",
   "name": "python",
   "nbconvert_exporter": "python",
   "pygments_lexer": "ipython2",
   "version": "2.7.10"
  }
 },
 "nbformat": 4,
 "nbformat_minor": 0
}
